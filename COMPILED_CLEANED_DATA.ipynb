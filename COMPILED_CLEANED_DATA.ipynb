{
 "cells": [
  {
   "cell_type": "markdown",
   "id": "eb88a85c",
   "metadata": {},
   "source": [
    "# COUNTRIES"
   ]
  },
  {
   "cell_type": "code",
   "execution_count": 13,
   "id": "a87074ce",
   "metadata": {},
   "outputs": [],
   "source": [
    "# Import the necessary libraries\n",
    "import pandas as pd\n",
    "import json\n",
    "import requests\n",
    "import numpy as np\n",
    "import matplotlib.pyplot as plt\n",
    "import datetime as dt"
   ]
  },
  {
   "cell_type": "code",
   "execution_count": 14,
   "id": "101214a4",
   "metadata": {
    "scrolled": true
   },
   "outputs": [
    {
     "data": {
      "text/html": [
       "<div>\n",
       "<style scoped>\n",
       "    .dataframe tbody tr th:only-of-type {\n",
       "        vertical-align: middle;\n",
       "    }\n",
       "\n",
       "    .dataframe tbody tr th {\n",
       "        vertical-align: top;\n",
       "    }\n",
       "\n",
       "    .dataframe thead th {\n",
       "        text-align: right;\n",
       "    }\n",
       "</style>\n",
       "<table border=\"1\" class=\"dataframe\">\n",
       "  <thead>\n",
       "    <tr style=\"text-align: right;\">\n",
       "      <th></th>\n",
       "      <th>dt</th>\n",
       "      <th>AverageTemperature</th>\n",
       "      <th>AverageTemperatureUncertainty</th>\n",
       "      <th>Country</th>\n",
       "    </tr>\n",
       "  </thead>\n",
       "  <tbody>\n",
       "    <tr>\n",
       "      <th>0</th>\n",
       "      <td>1743-11-01</td>\n",
       "      <td>4.384</td>\n",
       "      <td>2.294</td>\n",
       "      <td>Åland</td>\n",
       "    </tr>\n",
       "    <tr>\n",
       "      <th>1</th>\n",
       "      <td>1743-12-01</td>\n",
       "      <td>NaN</td>\n",
       "      <td>NaN</td>\n",
       "      <td>Åland</td>\n",
       "    </tr>\n",
       "    <tr>\n",
       "      <th>2</th>\n",
       "      <td>1744-01-01</td>\n",
       "      <td>NaN</td>\n",
       "      <td>NaN</td>\n",
       "      <td>Åland</td>\n",
       "    </tr>\n",
       "    <tr>\n",
       "      <th>3</th>\n",
       "      <td>1744-02-01</td>\n",
       "      <td>NaN</td>\n",
       "      <td>NaN</td>\n",
       "      <td>Åland</td>\n",
       "    </tr>\n",
       "    <tr>\n",
       "      <th>4</th>\n",
       "      <td>1744-03-01</td>\n",
       "      <td>NaN</td>\n",
       "      <td>NaN</td>\n",
       "      <td>Åland</td>\n",
       "    </tr>\n",
       "    <tr>\n",
       "      <th>...</th>\n",
       "      <td>...</td>\n",
       "      <td>...</td>\n",
       "      <td>...</td>\n",
       "      <td>...</td>\n",
       "    </tr>\n",
       "    <tr>\n",
       "      <th>577457</th>\n",
       "      <td>2013-05-01</td>\n",
       "      <td>19.059</td>\n",
       "      <td>1.022</td>\n",
       "      <td>Zimbabwe</td>\n",
       "    </tr>\n",
       "    <tr>\n",
       "      <th>577458</th>\n",
       "      <td>2013-06-01</td>\n",
       "      <td>17.613</td>\n",
       "      <td>0.473</td>\n",
       "      <td>Zimbabwe</td>\n",
       "    </tr>\n",
       "    <tr>\n",
       "      <th>577459</th>\n",
       "      <td>2013-07-01</td>\n",
       "      <td>17.000</td>\n",
       "      <td>0.453</td>\n",
       "      <td>Zimbabwe</td>\n",
       "    </tr>\n",
       "    <tr>\n",
       "      <th>577460</th>\n",
       "      <td>2013-08-01</td>\n",
       "      <td>19.759</td>\n",
       "      <td>0.717</td>\n",
       "      <td>Zimbabwe</td>\n",
       "    </tr>\n",
       "    <tr>\n",
       "      <th>577461</th>\n",
       "      <td>2013-09-01</td>\n",
       "      <td>NaN</td>\n",
       "      <td>NaN</td>\n",
       "      <td>Zimbabwe</td>\n",
       "    </tr>\n",
       "  </tbody>\n",
       "</table>\n",
       "<p>577462 rows × 4 columns</p>\n",
       "</div>"
      ],
      "text/plain": [
       "                dt  AverageTemperature  AverageTemperatureUncertainty  \\\n",
       "0       1743-11-01               4.384                          2.294   \n",
       "1       1743-12-01                 NaN                            NaN   \n",
       "2       1744-01-01                 NaN                            NaN   \n",
       "3       1744-02-01                 NaN                            NaN   \n",
       "4       1744-03-01                 NaN                            NaN   \n",
       "...            ...                 ...                            ...   \n",
       "577457  2013-05-01              19.059                          1.022   \n",
       "577458  2013-06-01              17.613                          0.473   \n",
       "577459  2013-07-01              17.000                          0.453   \n",
       "577460  2013-08-01              19.759                          0.717   \n",
       "577461  2013-09-01                 NaN                            NaN   \n",
       "\n",
       "         Country  \n",
       "0          Åland  \n",
       "1          Åland  \n",
       "2          Åland  \n",
       "3          Åland  \n",
       "4          Åland  \n",
       "...          ...  \n",
       "577457  Zimbabwe  \n",
       "577458  Zimbabwe  \n",
       "577459  Zimbabwe  \n",
       "577460  Zimbabwe  \n",
       "577461  Zimbabwe  \n",
       "\n",
       "[577462 rows x 4 columns]"
      ]
     },
     "execution_count": 14,
     "metadata": {},
     "output_type": "execute_result"
    }
   ],
   "source": [
    "# Read the CSV file\n",
    "pd.options.display.max_colwidth = 200\n",
    "country_df = pd.read_csv(\"Data/GlobalLandTemperaturesByCountry.csv\")\n",
    "country_df"
   ]
  },
  {
   "cell_type": "code",
   "execution_count": 15,
   "id": "ec7e6a71",
   "metadata": {},
   "outputs": [
    {
     "data": {
      "text/plain": [
       "['dt', 'AverageTemperature', 'AverageTemperatureUncertainty', 'Country']"
      ]
     },
     "execution_count": 15,
     "metadata": {},
     "output_type": "execute_result"
    }
   ],
   "source": [
    "# Using 'to_list()' converts the column labels to a Python list\n",
    "columns = country_df.columns.to_list()\n",
    "columns"
   ]
  },
  {
   "cell_type": "code",
   "execution_count": 16,
   "id": "8e62ae54",
   "metadata": {},
   "outputs": [
    {
     "data": {
      "text/plain": [
       "dt                                object\n",
       "AverageTemperature               float64\n",
       "AverageTemperatureUncertainty    float64\n",
       "Country                           object\n",
       "dtype: object"
      ]
     },
     "execution_count": 16,
     "metadata": {},
     "output_type": "execute_result"
    }
   ],
   "source": [
    "# Checck data types\n",
    "country_df.dtypes"
   ]
  },
  {
   "cell_type": "code",
   "execution_count": 17,
   "id": "779cbedf",
   "metadata": {},
   "outputs": [
    {
     "data": {
      "text/html": [
       "<div>\n",
       "<style scoped>\n",
       "    .dataframe tbody tr th:only-of-type {\n",
       "        vertical-align: middle;\n",
       "    }\n",
       "\n",
       "    .dataframe tbody tr th {\n",
       "        vertical-align: top;\n",
       "    }\n",
       "\n",
       "    .dataframe thead th {\n",
       "        text-align: right;\n",
       "    }\n",
       "</style>\n",
       "<table border=\"1\" class=\"dataframe\">\n",
       "  <thead>\n",
       "    <tr style=\"text-align: right;\">\n",
       "      <th></th>\n",
       "      <th>dt</th>\n",
       "      <th>AverageTemperature</th>\n",
       "      <th>AverageTemperatureUncertainty</th>\n",
       "      <th>Country</th>\n",
       "    </tr>\n",
       "  </thead>\n",
       "  <tbody>\n",
       "    <tr>\n",
       "      <th>0</th>\n",
       "      <td>1743-11-01</td>\n",
       "      <td>4.384</td>\n",
       "      <td>2.294</td>\n",
       "      <td>Åland</td>\n",
       "    </tr>\n",
       "    <tr>\n",
       "      <th>1</th>\n",
       "      <td>1743-12-01</td>\n",
       "      <td>NaN</td>\n",
       "      <td>NaN</td>\n",
       "      <td>Åland</td>\n",
       "    </tr>\n",
       "    <tr>\n",
       "      <th>2</th>\n",
       "      <td>1744-01-01</td>\n",
       "      <td>NaN</td>\n",
       "      <td>NaN</td>\n",
       "      <td>Åland</td>\n",
       "    </tr>\n",
       "    <tr>\n",
       "      <th>3</th>\n",
       "      <td>1744-02-01</td>\n",
       "      <td>NaN</td>\n",
       "      <td>NaN</td>\n",
       "      <td>Åland</td>\n",
       "    </tr>\n",
       "    <tr>\n",
       "      <th>4</th>\n",
       "      <td>1744-03-01</td>\n",
       "      <td>NaN</td>\n",
       "      <td>NaN</td>\n",
       "      <td>Åland</td>\n",
       "    </tr>\n",
       "  </tbody>\n",
       "</table>\n",
       "</div>"
      ],
      "text/plain": [
       "           dt  AverageTemperature  AverageTemperatureUncertainty Country\n",
       "0  1743-11-01               4.384                          2.294   Åland\n",
       "1  1743-12-01                 NaN                            NaN   Åland\n",
       "2  1744-01-01                 NaN                            NaN   Åland\n",
       "3  1744-02-01                 NaN                            NaN   Åland\n",
       "4  1744-03-01                 NaN                            NaN   Åland"
      ]
     },
     "execution_count": 17,
     "metadata": {},
     "output_type": "execute_result"
    }
   ],
   "source": [
    "country_df.head()"
   ]
  },
  {
   "cell_type": "code",
   "execution_count": 18,
   "id": "c9eb74f7",
   "metadata": {},
   "outputs": [],
   "source": [
    "# Convert to date time format\n",
    "country_df[\"dt\"] = pd.to_datetime(country_df[\"dt\"])"
   ]
  },
  {
   "cell_type": "code",
   "execution_count": 19,
   "id": "c0342880",
   "metadata": {},
   "outputs": [
    {
     "data": {
      "text/plain": [
       "0    1743\n",
       "1    1743\n",
       "2    1744\n",
       "3    1744\n",
       "4    1744\n",
       "Name: dt, dtype: int64"
      ]
     },
     "execution_count": 19,
     "metadata": {},
     "output_type": "execute_result"
    }
   ],
   "source": [
    "years = country_df[\"dt\"].dt.year\n",
    "years.head()"
   ]
  },
  {
   "cell_type": "code",
   "execution_count": 20,
   "id": "e872e379",
   "metadata": {},
   "outputs": [
    {
     "data": {
      "text/html": [
       "<div>\n",
       "<style scoped>\n",
       "    .dataframe tbody tr th:only-of-type {\n",
       "        vertical-align: middle;\n",
       "    }\n",
       "\n",
       "    .dataframe tbody tr th {\n",
       "        vertical-align: top;\n",
       "    }\n",
       "\n",
       "    .dataframe thead th {\n",
       "        text-align: right;\n",
       "    }\n",
       "</style>\n",
       "<table border=\"1\" class=\"dataframe\">\n",
       "  <thead>\n",
       "    <tr style=\"text-align: right;\">\n",
       "      <th></th>\n",
       "      <th>dt</th>\n",
       "      <th>Year</th>\n",
       "      <th>AverageTemperature</th>\n",
       "      <th>AverageTemperatureUncertainty</th>\n",
       "      <th>Country</th>\n",
       "    </tr>\n",
       "  </thead>\n",
       "  <tbody>\n",
       "    <tr>\n",
       "      <th>577457</th>\n",
       "      <td>2013-05-01</td>\n",
       "      <td>2013</td>\n",
       "      <td>19.059</td>\n",
       "      <td>1.022</td>\n",
       "      <td>Zimbabwe</td>\n",
       "    </tr>\n",
       "    <tr>\n",
       "      <th>577458</th>\n",
       "      <td>2013-06-01</td>\n",
       "      <td>2013</td>\n",
       "      <td>17.613</td>\n",
       "      <td>0.473</td>\n",
       "      <td>Zimbabwe</td>\n",
       "    </tr>\n",
       "    <tr>\n",
       "      <th>577459</th>\n",
       "      <td>2013-07-01</td>\n",
       "      <td>2013</td>\n",
       "      <td>17.000</td>\n",
       "      <td>0.453</td>\n",
       "      <td>Zimbabwe</td>\n",
       "    </tr>\n",
       "    <tr>\n",
       "      <th>577460</th>\n",
       "      <td>2013-08-01</td>\n",
       "      <td>2013</td>\n",
       "      <td>19.759</td>\n",
       "      <td>0.717</td>\n",
       "      <td>Zimbabwe</td>\n",
       "    </tr>\n",
       "    <tr>\n",
       "      <th>577461</th>\n",
       "      <td>2013-09-01</td>\n",
       "      <td>2013</td>\n",
       "      <td>NaN</td>\n",
       "      <td>NaN</td>\n",
       "      <td>Zimbabwe</td>\n",
       "    </tr>\n",
       "  </tbody>\n",
       "</table>\n",
       "</div>"
      ],
      "text/plain": [
       "               dt  Year  AverageTemperature  AverageTemperatureUncertainty  \\\n",
       "577457 2013-05-01  2013              19.059                          1.022   \n",
       "577458 2013-06-01  2013              17.613                          0.473   \n",
       "577459 2013-07-01  2013              17.000                          0.453   \n",
       "577460 2013-08-01  2013              19.759                          0.717   \n",
       "577461 2013-09-01  2013                 NaN                            NaN   \n",
       "\n",
       "         Country  \n",
       "577457  Zimbabwe  \n",
       "577458  Zimbabwe  \n",
       "577459  Zimbabwe  \n",
       "577460  Zimbabwe  \n",
       "577461  Zimbabwe  "
      ]
     },
     "execution_count": 20,
     "metadata": {},
     "output_type": "execute_result"
    }
   ],
   "source": [
    "country_df.insert(1, \"Year\", country_df[\"dt\"].dt.year)\n",
    "country_df.tail()"
   ]
  },
  {
   "cell_type": "code",
   "execution_count": 23,
   "id": "16f8ae9f",
   "metadata": {},
   "outputs": [
    {
     "data": {
      "text/html": [
       "<div>\n",
       "<style scoped>\n",
       "    .dataframe tbody tr th:only-of-type {\n",
       "        vertical-align: middle;\n",
       "    }\n",
       "\n",
       "    .dataframe tbody tr th {\n",
       "        vertical-align: top;\n",
       "    }\n",
       "\n",
       "    .dataframe thead th {\n",
       "        text-align: right;\n",
       "    }\n",
       "</style>\n",
       "<table border=\"1\" class=\"dataframe\">\n",
       "  <thead>\n",
       "    <tr style=\"text-align: right;\">\n",
       "      <th></th>\n",
       "      <th>Year</th>\n",
       "      <th>AverageTemperature</th>\n",
       "      <th>Country</th>\n",
       "    </tr>\n",
       "  </thead>\n",
       "  <tbody>\n",
       "    <tr>\n",
       "      <th>0</th>\n",
       "      <td>1743</td>\n",
       "      <td>4.384</td>\n",
       "      <td>Åland</td>\n",
       "    </tr>\n",
       "    <tr>\n",
       "      <th>1</th>\n",
       "      <td>1743</td>\n",
       "      <td>NaN</td>\n",
       "      <td>Åland</td>\n",
       "    </tr>\n",
       "    <tr>\n",
       "      <th>2</th>\n",
       "      <td>1744</td>\n",
       "      <td>NaN</td>\n",
       "      <td>Åland</td>\n",
       "    </tr>\n",
       "    <tr>\n",
       "      <th>3</th>\n",
       "      <td>1744</td>\n",
       "      <td>NaN</td>\n",
       "      <td>Åland</td>\n",
       "    </tr>\n",
       "    <tr>\n",
       "      <th>4</th>\n",
       "      <td>1744</td>\n",
       "      <td>NaN</td>\n",
       "      <td>Åland</td>\n",
       "    </tr>\n",
       "  </tbody>\n",
       "</table>\n",
       "</div>"
      ],
      "text/plain": [
       "   Year  AverageTemperature Country\n",
       "0  1743               4.384   Åland\n",
       "1  1743                 NaN   Åland\n",
       "2  1744                 NaN   Åland\n",
       "3  1744                 NaN   Åland\n",
       "4  1744                 NaN   Åland"
      ]
     },
     "execution_count": 23,
     "metadata": {},
     "output_type": "execute_result"
    }
   ],
   "source": [
    "country_df2 = country_df[['Year', 'AverageTemperature', 'Country']]\n",
    "country_df2.head()"
   ]
  },
  {
   "cell_type": "code",
   "execution_count": 25,
   "id": "2be4330b",
   "metadata": {},
   "outputs": [
    {
     "data": {
      "text/plain": [
       "Year                    int64\n",
       "AverageTemperature    float64\n",
       "Country                object\n",
       "dtype: object"
      ]
     },
     "execution_count": 25,
     "metadata": {},
     "output_type": "execute_result"
    }
   ],
   "source": [
    "country_df2.dtypes"
   ]
  },
  {
   "cell_type": "code",
   "execution_count": 26,
   "id": "b00041c4",
   "metadata": {},
   "outputs": [
    {
     "data": {
      "text/plain": [
       "243"
      ]
     },
     "execution_count": 26,
     "metadata": {},
     "output_type": "execute_result"
    }
   ],
   "source": [
    "# Determine the number of unique countries in the dataset\n",
    "country_df[\"Country\"].unique()\n",
    "len(country_df[\"Country\"].unique())"
   ]
  },
  {
   "cell_type": "code",
   "execution_count": 28,
   "id": "1f853308",
   "metadata": {},
   "outputs": [
    {
     "data": {
      "text/html": [
       "<div>\n",
       "<style scoped>\n",
       "    .dataframe tbody tr th:only-of-type {\n",
       "        vertical-align: middle;\n",
       "    }\n",
       "\n",
       "    .dataframe tbody tr th {\n",
       "        vertical-align: top;\n",
       "    }\n",
       "\n",
       "    .dataframe thead th {\n",
       "        text-align: right;\n",
       "    }\n",
       "</style>\n",
       "<table border=\"1\" class=\"dataframe\">\n",
       "  <thead>\n",
       "    <tr style=\"text-align: right;\">\n",
       "      <th></th>\n",
       "      <th>Year</th>\n",
       "      <th>Country</th>\n",
       "      <th>AverageTemperature</th>\n",
       "    </tr>\n",
       "  </thead>\n",
       "  <tbody>\n",
       "    <tr>\n",
       "      <th>0</th>\n",
       "      <td>1743</td>\n",
       "      <td>Albania</td>\n",
       "      <td>8.620</td>\n",
       "    </tr>\n",
       "    <tr>\n",
       "      <th>1</th>\n",
       "      <td>1743</td>\n",
       "      <td>Andorra</td>\n",
       "      <td>7.556</td>\n",
       "    </tr>\n",
       "    <tr>\n",
       "      <th>2</th>\n",
       "      <td>1743</td>\n",
       "      <td>Austria</td>\n",
       "      <td>2.482</td>\n",
       "    </tr>\n",
       "    <tr>\n",
       "      <th>3</th>\n",
       "      <td>1743</td>\n",
       "      <td>Belarus</td>\n",
       "      <td>0.767</td>\n",
       "    </tr>\n",
       "    <tr>\n",
       "      <th>4</th>\n",
       "      <td>1743</td>\n",
       "      <td>Belgium</td>\n",
       "      <td>7.106</td>\n",
       "    </tr>\n",
       "  </tbody>\n",
       "</table>\n",
       "</div>"
      ],
      "text/plain": [
       "   Year  Country  AverageTemperature\n",
       "0  1743  Albania               8.620\n",
       "1  1743  Andorra               7.556\n",
       "2  1743  Austria               2.482\n",
       "3  1743  Belarus               0.767\n",
       "4  1743  Belgium               7.106"
      ]
     },
     "execution_count": 28,
     "metadata": {},
     "output_type": "execute_result"
    }
   ],
   "source": [
    "# Group by 'Year', 'City', and 'Country' and calculate the mean temperature for each year\n",
    "country_df3 = country_df2.groupby(['Year', 'Country'])['AverageTemperature'].mean().reset_index()\n",
    "country_df3.head()"
   ]
  },
  {
   "cell_type": "code",
   "execution_count": 29,
   "id": "dd6ad127",
   "metadata": {},
   "outputs": [
    {
     "data": {
      "text/html": [
       "<div>\n",
       "<style scoped>\n",
       "    .dataframe tbody tr th:only-of-type {\n",
       "        vertical-align: middle;\n",
       "    }\n",
       "\n",
       "    .dataframe tbody tr th {\n",
       "        vertical-align: top;\n",
       "    }\n",
       "\n",
       "    .dataframe thead th {\n",
       "        text-align: right;\n",
       "    }\n",
       "</style>\n",
       "<table border=\"1\" class=\"dataframe\">\n",
       "  <thead>\n",
       "    <tr style=\"text-align: right;\">\n",
       "      <th></th>\n",
       "      <th>Year</th>\n",
       "      <th>Country</th>\n",
       "      <th>Yearly Average Temperature</th>\n",
       "    </tr>\n",
       "  </thead>\n",
       "  <tbody>\n",
       "    <tr>\n",
       "      <th>0</th>\n",
       "      <td>1743</td>\n",
       "      <td>Albania</td>\n",
       "      <td>8.620</td>\n",
       "    </tr>\n",
       "    <tr>\n",
       "      <th>1</th>\n",
       "      <td>1743</td>\n",
       "      <td>Andorra</td>\n",
       "      <td>7.556</td>\n",
       "    </tr>\n",
       "    <tr>\n",
       "      <th>2</th>\n",
       "      <td>1743</td>\n",
       "      <td>Austria</td>\n",
       "      <td>2.482</td>\n",
       "    </tr>\n",
       "    <tr>\n",
       "      <th>3</th>\n",
       "      <td>1743</td>\n",
       "      <td>Belarus</td>\n",
       "      <td>0.767</td>\n",
       "    </tr>\n",
       "    <tr>\n",
       "      <th>4</th>\n",
       "      <td>1743</td>\n",
       "      <td>Belgium</td>\n",
       "      <td>7.106</td>\n",
       "    </tr>\n",
       "  </tbody>\n",
       "</table>\n",
       "</div>"
      ],
      "text/plain": [
       "   Year  Country  Yearly Average Temperature\n",
       "0  1743  Albania                       8.620\n",
       "1  1743  Andorra                       7.556\n",
       "2  1743  Austria                       2.482\n",
       "3  1743  Belarus                       0.767\n",
       "4  1743  Belgium                       7.106"
      ]
     },
     "execution_count": 29,
     "metadata": {},
     "output_type": "execute_result"
    }
   ],
   "source": [
    "# Rename the columns\n",
    "country_df4 = country_df3.rename(columns={'dt': 'Year', 'AverageTemperature': 'Yearly Average Temperature'})\n",
    "\n",
    "# Display the DataFrame with the average temperature for each year\n",
    "country_df4.head()"
   ]
  },
  {
   "cell_type": "code",
   "execution_count": 30,
   "id": "80848a3e",
   "metadata": {},
   "outputs": [
    {
     "data": {
      "text/plain": [
       "243"
      ]
     },
     "execution_count": 30,
     "metadata": {},
     "output_type": "execute_result"
    }
   ],
   "source": [
    "# Determine the number of unique countries in the dataset\n",
    "country_df[\"Country\"].unique()\n",
    "len(country_df[\"Country\"].unique())"
   ]
  },
  {
   "cell_type": "code",
   "execution_count": 34,
   "id": "59755071",
   "metadata": {},
   "outputs": [],
   "source": [
    "# earlies year is established as 1950 to align with the rest of the data \n",
    "earliest_year = 1950\n",
    "latest_year = country_df4[\"Year\"].max()"
   ]
  },
  {
   "cell_type": "code",
   "execution_count": 35,
   "id": "63ba2fbe",
   "metadata": {},
   "outputs": [
    {
     "data": {
      "text/plain": [
       "2013"
      ]
     },
     "execution_count": 35,
     "metadata": {},
     "output_type": "execute_result"
    }
   ],
   "source": [
    "latest_year"
   ]
  },
  {
   "cell_type": "code",
   "execution_count": 36,
   "id": "8687d76d",
   "metadata": {},
   "outputs": [
    {
     "name": "stdout",
     "output_type": "stream",
     "text": [
      "Our date range is 1950 to 2013\n"
     ]
    }
   ],
   "source": [
    "date_range = (f\"Our date range is {earliest_year} to {latest_year}\")\n",
    "print(date_range)"
   ]
  },
  {
   "cell_type": "code",
   "execution_count": 38,
   "id": "eaf38d9c",
   "metadata": {},
   "outputs": [
    {
     "data": {
      "text/html": [
       "<div>\n",
       "<style scoped>\n",
       "    .dataframe tbody tr th:only-of-type {\n",
       "        vertical-align: middle;\n",
       "    }\n",
       "\n",
       "    .dataframe tbody tr th {\n",
       "        vertical-align: top;\n",
       "    }\n",
       "\n",
       "    .dataframe thead th {\n",
       "        text-align: right;\n",
       "    }\n",
       "</style>\n",
       "<table border=\"1\" class=\"dataframe\">\n",
       "  <thead>\n",
       "    <tr style=\"text-align: right;\">\n",
       "      <th></th>\n",
       "      <th>Year</th>\n",
       "      <th>Country</th>\n",
       "      <th>Yearly Average Temperature</th>\n",
       "    </tr>\n",
       "  </thead>\n",
       "  <tbody>\n",
       "    <tr>\n",
       "      <th>32691</th>\n",
       "      <td>1950</td>\n",
       "      <td>Afghanistan</td>\n",
       "      <td>13.043500</td>\n",
       "    </tr>\n",
       "    <tr>\n",
       "      <th>32692</th>\n",
       "      <td>1950</td>\n",
       "      <td>Africa</td>\n",
       "      <td>23.880833</td>\n",
       "    </tr>\n",
       "    <tr>\n",
       "      <th>32693</th>\n",
       "      <td>1950</td>\n",
       "      <td>Albania</td>\n",
       "      <td>13.812833</td>\n",
       "    </tr>\n",
       "    <tr>\n",
       "      <th>32694</th>\n",
       "      <td>1950</td>\n",
       "      <td>Algeria</td>\n",
       "      <td>22.781833</td>\n",
       "    </tr>\n",
       "    <tr>\n",
       "      <th>32695</th>\n",
       "      <td>1950</td>\n",
       "      <td>American Samoa</td>\n",
       "      <td>26.520083</td>\n",
       "    </tr>\n",
       "  </tbody>\n",
       "</table>\n",
       "</div>"
      ],
      "text/plain": [
       "       Year         Country  Yearly Average Temperature\n",
       "32691  1950     Afghanistan                   13.043500\n",
       "32692  1950          Africa                   23.880833\n",
       "32693  1950         Albania                   13.812833\n",
       "32694  1950         Algeria                   22.781833\n",
       "32695  1950  American Samoa                   26.520083"
      ]
     },
     "execution_count": 38,
     "metadata": {},
     "output_type": "execute_result"
    }
   ],
   "source": [
    "cleaned_countries = country_df4[country_df4['Year']>=earliest_year]\n",
    "cleaned_countries.head()"
   ]
  },
  {
   "cell_type": "code",
   "execution_count": 42,
   "id": "9afdc68c",
   "metadata": {},
   "outputs": [
    {
     "data": {
      "text/html": [
       "<div>\n",
       "<style scoped>\n",
       "    .dataframe tbody tr th:only-of-type {\n",
       "        vertical-align: middle;\n",
       "    }\n",
       "\n",
       "    .dataframe tbody tr th {\n",
       "        vertical-align: top;\n",
       "    }\n",
       "\n",
       "    .dataframe thead th {\n",
       "        text-align: right;\n",
       "    }\n",
       "</style>\n",
       "<table border=\"1\" class=\"dataframe\">\n",
       "  <thead>\n",
       "    <tr style=\"text-align: right;\">\n",
       "      <th></th>\n",
       "      <th>Country</th>\n",
       "      <th>Year</th>\n",
       "      <th>Yearly Average Temperature</th>\n",
       "    </tr>\n",
       "  </thead>\n",
       "  <tbody>\n",
       "    <tr>\n",
       "      <th>32691</th>\n",
       "      <td>Afghanistan</td>\n",
       "      <td>1950</td>\n",
       "      <td>13.043500</td>\n",
       "    </tr>\n",
       "    <tr>\n",
       "      <th>32692</th>\n",
       "      <td>Africa</td>\n",
       "      <td>1950</td>\n",
       "      <td>23.880833</td>\n",
       "    </tr>\n",
       "    <tr>\n",
       "      <th>32693</th>\n",
       "      <td>Albania</td>\n",
       "      <td>1950</td>\n",
       "      <td>13.812833</td>\n",
       "    </tr>\n",
       "    <tr>\n",
       "      <th>32694</th>\n",
       "      <td>Algeria</td>\n",
       "      <td>1950</td>\n",
       "      <td>22.781833</td>\n",
       "    </tr>\n",
       "    <tr>\n",
       "      <th>32695</th>\n",
       "      <td>American Samoa</td>\n",
       "      <td>1950</td>\n",
       "      <td>26.520083</td>\n",
       "    </tr>\n",
       "  </tbody>\n",
       "</table>\n",
       "</div>"
      ],
      "text/plain": [
       "              Country  Year  Yearly Average Temperature\n",
       "32691     Afghanistan  1950                   13.043500\n",
       "32692          Africa  1950                   23.880833\n",
       "32693         Albania  1950                   13.812833\n",
       "32694         Algeria  1950                   22.781833\n",
       "32695  American Samoa  1950                   26.520083"
      ]
     },
     "execution_count": 42,
     "metadata": {},
     "output_type": "execute_result"
    }
   ],
   "source": [
    "reorderd_df = cleaned_countries[[\"Country\", \"Year\", \"Yearly Average Temperature\"]]\n",
    "reorderd_df.head()"
   ]
  },
  {
   "cell_type": "code",
   "execution_count": 43,
   "id": "c7b7f5d5",
   "metadata": {},
   "outputs": [
    {
     "data": {
      "text/html": [
       "<div>\n",
       "<style scoped>\n",
       "    .dataframe tbody tr th:only-of-type {\n",
       "        vertical-align: middle;\n",
       "    }\n",
       "\n",
       "    .dataframe tbody tr th {\n",
       "        vertical-align: top;\n",
       "    }\n",
       "\n",
       "    .dataframe thead th {\n",
       "        text-align: right;\n",
       "    }\n",
       "</style>\n",
       "<table border=\"1\" class=\"dataframe\">\n",
       "  <thead>\n",
       "    <tr style=\"text-align: right;\">\n",
       "      <th></th>\n",
       "      <th>Country</th>\n",
       "      <th>Year</th>\n",
       "      <th>Yearly Average Temperature</th>\n",
       "    </tr>\n",
       "  </thead>\n",
       "  <tbody>\n",
       "    <tr>\n",
       "      <th>32691</th>\n",
       "      <td>Afghanistan</td>\n",
       "      <td>1950</td>\n",
       "      <td>13.043500</td>\n",
       "    </tr>\n",
       "    <tr>\n",
       "      <th>32692</th>\n",
       "      <td>Africa</td>\n",
       "      <td>1950</td>\n",
       "      <td>23.880833</td>\n",
       "    </tr>\n",
       "    <tr>\n",
       "      <th>32693</th>\n",
       "      <td>Albania</td>\n",
       "      <td>1950</td>\n",
       "      <td>13.812833</td>\n",
       "    </tr>\n",
       "    <tr>\n",
       "      <th>32694</th>\n",
       "      <td>Algeria</td>\n",
       "      <td>1950</td>\n",
       "      <td>22.781833</td>\n",
       "    </tr>\n",
       "    <tr>\n",
       "      <th>32695</th>\n",
       "      <td>American Samoa</td>\n",
       "      <td>1950</td>\n",
       "      <td>26.520083</td>\n",
       "    </tr>\n",
       "  </tbody>\n",
       "</table>\n",
       "</div>"
      ],
      "text/plain": [
       "              Country  Year  Yearly Average Temperature\n",
       "32691     Afghanistan  1950                   13.043500\n",
       "32692          Africa  1950                   23.880833\n",
       "32693         Albania  1950                   13.812833\n",
       "32694         Algeria  1950                   22.781833\n",
       "32695  American Samoa  1950                   26.520083"
      ]
     },
     "execution_count": 43,
     "metadata": {},
     "output_type": "execute_result"
    }
   ],
   "source": [
    "final_df = reorderd_df.dropna()\n",
    "final_df.head()"
   ]
  },
  {
   "cell_type": "code",
   "execution_count": 44,
   "id": "26981dcf",
   "metadata": {},
   "outputs": [],
   "source": [
    "final_df.to_csv(\"Cleaned Data/Countries.csv\")"
   ]
  },
  {
   "cell_type": "markdown",
   "id": "75a51d5d",
   "metadata": {},
   "source": [
    "# STATES "
   ]
  },
  {
   "cell_type": "code",
   "execution_count": null,
   "id": "6476d3a3",
   "metadata": {},
   "outputs": [],
   "source": [
    "state_df = pd.read_csv(\"Data/GlobalLandTemperaturesByState.csv\")\n",
    "state_df"
   ]
  },
  {
   "cell_type": "code",
   "execution_count": null,
   "id": "40ed2cd3",
   "metadata": {},
   "outputs": [],
   "source": [
    "pd.options.display.max_colwidth = 200\n",
    "state_df.head()"
   ]
  },
  {
   "cell_type": "code",
   "execution_count": null,
   "id": "eb7c9507",
   "metadata": {},
   "outputs": [],
   "source": [
    "columns = state_df.columns.to_list()\n",
    "# Or, you can use: columns = list(orders_df)\n",
    "columns"
   ]
  },
  {
   "cell_type": "code",
   "execution_count": null,
   "id": "551de926",
   "metadata": {},
   "outputs": [],
   "source": [
    "state_df.dtypes"
   ]
  },
  {
   "cell_type": "code",
   "execution_count": null,
   "id": "7402e396",
   "metadata": {},
   "outputs": [],
   "source": [
    "state_df[\"dt\"] = pd.to_datetime(state_df[\"dt\"])"
   ]
  },
  {
   "cell_type": "code",
   "execution_count": null,
   "id": "cba8c7c2",
   "metadata": {},
   "outputs": [],
   "source": [
    "state_df.dtypes"
   ]
  },
  {
   "cell_type": "code",
   "execution_count": null,
   "id": "17c41d2f",
   "metadata": {},
   "outputs": [],
   "source": [
    "state_df[\"State\"].unique()\n",
    "len(state_df[\"State\"].unique())"
   ]
  },
  {
   "cell_type": "code",
   "execution_count": null,
   "id": "b7262ed1",
   "metadata": {},
   "outputs": [],
   "source": [
    "# Group by 'Year', 'City', and 'Country' and calculate the mean temperature for each year\n",
    "yearly_avg_state_df = state_df.groupby(['dt', 'State', 'Country'])['AverageTemperature'].mean().reset_index()\n",
    "\n",
    "# Rename the columns\n",
    "yearly_avg_state_df = yearly_avg_state_df.rename(columns={'dt': 'Year', 'AverageTemperature': 'Yearly Average Temperature'})\n",
    "\n",
    "# Display the DataFrame with the average temperature for each year\n",
    "yearly_avg_state_df.head()"
   ]
  },
  {
   "cell_type": "code",
   "execution_count": null,
   "id": "c88c7f78",
   "metadata": {},
   "outputs": [],
   "source": [
    "cleaned_states = yearly_avg_state_df[yearly_avg_state_df['Year']>=\"1950-02-01\"]\n",
    "cleaned_states"
   ]
  },
  {
   "cell_type": "code",
   "execution_count": null,
   "id": "9e0f102b",
   "metadata": {},
   "outputs": [],
   "source": [
    "cleaned_states_grouped_dropna = cleaned_states.dropna()\n",
    "cleaned_states_grouped_dropna"
   ]
  },
  {
   "cell_type": "code",
   "execution_count": null,
   "id": "93f4ca36",
   "metadata": {},
   "outputs": [],
   "source": [
    "# Now you can use to_csv on the resulting DataFrame\n",
    "cleaned_states_grouped_dropna.to_csv(\"Cleaned Data/States.csv\")"
   ]
  },
  {
   "cell_type": "markdown",
   "id": "46c1a446",
   "metadata": {},
   "source": [
    "# CITIES "
   ]
  },
  {
   "cell_type": "code",
   "execution_count": null,
   "id": "d4aab8b9-4f51-4aaa-b53f-e27283ef5370",
   "metadata": {},
   "outputs": [],
   "source": [
    "pd.options.display.max_colwidth = 200\n",
    "# Extract the ZIP file manually as pd.read_csv function did not work due to compatibility issue\n",
    "import zipfile\n",
    "with zipfile.ZipFile(\"Data/GlobalLandTemperaturesByCity.csv.zip\", 'r') as zip_ref:\n",
    "    zip_ref.extractall(\"Data/\")\n",
    "\n",
    "# Read the CSV file directly\n",
    "city_df = pd.read_csv(\"Data/GlobalLandTemperaturesByCity.csv\")\n",
    "\n",
    "city_df"
   ]
  },
  {
   "cell_type": "code",
   "execution_count": null,
   "id": "a4d16d59-69b8-4ab5-a137-d57f9693d751",
   "metadata": {},
   "outputs": [],
   "source": [
    "# Converts the column labels to a Python list\n",
    "city_columns = list(city_df)\n",
    "city_columns"
   ]
  },
  {
   "cell_type": "code",
   "execution_count": null,
   "id": "5d96697c-76ad-4e54-8a88-5a810c8f6ab9",
   "metadata": {},
   "outputs": [],
   "source": [
    "# Checck data types\n",
    "city_df.dtypes"
   ]
  },
  {
   "cell_type": "code",
   "execution_count": null,
   "id": "c41dea13-e27f-48d2-bd6d-0c23776971ba",
   "metadata": {},
   "outputs": [],
   "source": [
    "# Convert to date time format\n",
    "city_df[\"dt\"] = pd.to_datetime(city_df[\"dt\"])"
   ]
  },
  {
   "cell_type": "code",
   "execution_count": null,
   "id": "10d5f6a7-7117-49b9-92a1-adf1d6348b98",
   "metadata": {},
   "outputs": [],
   "source": [
    "# Check the data types again\n",
    "city_df.dtypes"
   ]
  },
  {
   "cell_type": "code",
   "execution_count": null,
   "id": "5bc275bf-1202-4a45-b2f6-08dded068d92",
   "metadata": {},
   "outputs": [],
   "source": [
    "# Determine the number of unique countries in the dataset\n",
    "city_df[\"Country\"].unique()\n",
    "len(city_df[\"Country\"].unique())"
   ]
  },
  {
   "cell_type": "code",
   "execution_count": null,
   "id": "657a7ab7-ea31-405e-bb4b-707bba0531ac",
   "metadata": {},
   "outputs": [],
   "source": [
    "# Determine the number of unique cities in the dataset\n",
    "city_df[\"City\"].unique()\n",
    "len(city_df[\"City\"].unique())"
   ]
  },
  {
   "cell_type": "code",
   "execution_count": null,
   "id": "b823c3e8-6a15-4988-a6d2-d9830fd481c6",
   "metadata": {},
   "outputs": [],
   "source": [
    "# Group by 'Year', 'City', and 'Country' and calculate the mean temperature for each year\n",
    "yearly_avg_city_df = city_df.groupby(['dt', 'City', 'Country'])['AverageTemperature'].mean().reset_index()\n",
    "\n",
    "# Rename the columns\n",
    "yearly_avg_city_df = yearly_avg_city_df.rename(columns={'dt': 'Year', 'AverageTemperature': 'Yearly Average Temperature'})\n",
    "\n",
    "# Display the DataFrame with the average temperature for each year\n",
    "(yearly_avg_city_df)\n"
   ]
  },
  {
   "cell_type": "code",
   "execution_count": null,
   "id": "809474e0-b39c-4a83-beb5-4dafc5551724",
   "metadata": {},
   "outputs": [],
   "source": [
    "cleaned_cities = yearly_avg_city_df[yearly_avg_city_df['Year']>=\"1950-02-01\"]\n",
    "cleaned_cities"
   ]
  },
  {
   "cell_type": "code",
   "execution_count": null,
   "id": "f848322a-aa2a-4ad3-a25f-813a69fb8dff",
   "metadata": {},
   "outputs": [],
   "source": [
    "final_city_df = cleaned_cities.dropna()\n",
    "final_city_df"
   ]
  },
  {
   "cell_type": "code",
   "execution_count": null,
   "id": "ef7fc3e9-b17f-45a9-9716-ebd56945b36b",
   "metadata": {},
   "outputs": [],
   "source": [
    "# final_city_df = cleaned_cities_dropna.groupby(['City', 'Country']).reset_index()\n",
    "final_city_df.to_csv(\"Cleaned Data/Cities.csv\", index=False)"
   ]
  },
  {
   "cell_type": "code",
   "execution_count": null,
   "id": "4186e723",
   "metadata": {},
   "outputs": [],
   "source": []
  }
 ],
 "metadata": {
  "kernelspec": {
   "display_name": "Python 3 (ipykernel)",
   "language": "python",
   "name": "python3"
  },
  "language_info": {
   "codemirror_mode": {
    "name": "ipython",
    "version": 3
   },
   "file_extension": ".py",
   "mimetype": "text/x-python",
   "name": "python",
   "nbconvert_exporter": "python",
   "pygments_lexer": "ipython3",
   "version": "3.11.5"
  }
 },
 "nbformat": 4,
 "nbformat_minor": 5
}
